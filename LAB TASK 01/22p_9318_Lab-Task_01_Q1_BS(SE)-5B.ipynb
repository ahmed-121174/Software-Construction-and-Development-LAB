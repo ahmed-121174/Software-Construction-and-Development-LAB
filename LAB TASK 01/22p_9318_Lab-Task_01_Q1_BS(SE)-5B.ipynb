{
 "cells": [
  {
   "cell_type": "code",
   "execution_count": 2,
   "id": "a8ceae24-28cb-4bd5-a635-538f37549b15",
   "metadata": {},
   "outputs": [
    {
     "name": "stdin",
     "output_type": "stream",
     "text": [
      "Enter a number to check whether its even or odd:  60\n"
     ]
    }
   ],
   "source": [
    "enter_value=int(input(\"Enter a number to check whether its even or odd: \"))"
   ]
  },
  {
   "cell_type": "code",
   "execution_count": 3,
   "id": "8808f55e-7736-45ac-b786-ee3734225ae6",
   "metadata": {},
   "outputs": [
    {
     "name": "stdout",
     "output_type": "stream",
     "text": [
      "number 60 is even\n"
     ]
    }
   ],
   "source": [
    "if (enter_value&1)==0:\n",
    "    print(\"number \"+str(enter_value)+\" is even\")\n",
    "else:\n",
    "    print(\"number \"+str(enter_value)+\" is odd\")"
   ]
  },
  {
   "cell_type": "code",
   "execution_count": null,
   "id": "8d112786-43e8-416a-aa02-fa140aae5342",
   "metadata": {},
   "outputs": [],
   "source": []
  }
 ],
 "metadata": {
  "kernelspec": {
   "display_name": "Python 3 (ipykernel)",
   "language": "python",
   "name": "python3"
  },
  "language_info": {
   "codemirror_mode": {
    "name": "ipython",
    "version": 3
   },
   "file_extension": ".py",
   "mimetype": "text/x-python",
   "name": "python",
   "nbconvert_exporter": "python",
   "pygments_lexer": "ipython3",
   "version": "3.12.5"
  }
 },
 "nbformat": 4,
 "nbformat_minor": 5
}
