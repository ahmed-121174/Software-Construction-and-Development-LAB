{
 "cells": [
  {
   "cell_type": "code",
   "execution_count": 1,
   "id": "e051e15d-61ce-4091-9f68-b4b4ec792195",
   "metadata": {},
   "outputs": [],
   "source": [
    "dictionary={}"
   ]
  },
  {
   "cell_type": "code",
   "execution_count": 2,
   "id": "95bcb3fd-3612-44f7-aedd-916bf038de2b",
   "metadata": {},
   "outputs": [],
   "source": [
    "def add_items():\n",
    "    number_of_inputs=int(input(\"Enter the number of items you want to input: \"))\n",
    "    #for loop to take input\n",
    "    for _ in range(number_of_inputs):\n",
    "        items=str(input(\"Enter item: \"))\n",
    "        quantity=str(input(\"Enter quantity: \"))\n",
    "        #Updating quantity if the item already exists\n",
    "        dictionary[items]=quantity"
   ]
  },
  {
   "cell_type": "code",
   "execution_count": 3,
   "id": "6a1033a4-3eaf-4f97-a193-9b2b213fd102",
   "metadata": {},
   "outputs": [],
   "source": [
    "def display():\n",
    "    print(\"\\ndictionary: \")\n",
    "    for item, quantity in dictionary.items():\n",
    "        print(f\"{item}: {quantity}\")"
   ]
  },
  {
   "cell_type": "code",
   "execution_count": 4,
   "id": "4394d4e9-cb68-4b0b-83fc-567695e3200d",
   "metadata": {},
   "outputs": [
    {
     "name": "stdin",
     "output_type": "stream",
     "text": [
      "Enter the number of items you want to input:  3\n",
      "Enter item:  m1\n",
      "Enter quantity:  3\n",
      "Enter item:  m2\n",
      "Enter quantity:  5\n",
      "Enter item:  m1\n",
      "Enter quantity:  7\n"
     ]
    }
   ],
   "source": [
    "add_items()"
   ]
  },
  {
   "cell_type": "code",
   "execution_count": 5,
   "id": "fc8f54ab-8405-474a-87b8-e2e46a325ee2",
   "metadata": {},
   "outputs": [
    {
     "name": "stdout",
     "output_type": "stream",
     "text": [
      "\n",
      "dictionary: \n",
      "m1: 7\n",
      "m2: 5\n"
     ]
    }
   ],
   "source": [
    "display()"
   ]
  },
  {
   "cell_type": "code",
   "execution_count": 7,
   "id": "6aadd15d-0d4e-4ff7-9ebf-2013fbc60c36",
   "metadata": {},
   "outputs": [
    {
     "name": "stdin",
     "output_type": "stream",
     "text": [
      "Enter the number of items you want to input:  2\n",
      "Enter item:  m1\n",
      "Enter quantity:  9\n",
      "Enter item:  m2\n",
      "Enter quantity:  6\n"
     ]
    }
   ],
   "source": [
    "add_items()"
   ]
  },
  {
   "cell_type": "code",
   "execution_count": 8,
   "id": "c37943e2-0fda-4299-a34f-3fd5559c4786",
   "metadata": {},
   "outputs": [
    {
     "name": "stdout",
     "output_type": "stream",
     "text": [
      "\n",
      "dictionary: \n",
      "m1: 9\n",
      "m2: 6\n"
     ]
    }
   ],
   "source": [
    "display()"
   ]
  },
  {
   "cell_type": "code",
   "execution_count": null,
   "id": "6ad081a6-ef0c-486d-9419-e59fbca409d0",
   "metadata": {},
   "outputs": [],
   "source": []
  }
 ],
 "metadata": {
  "kernelspec": {
   "display_name": "Python 3 (ipykernel)",
   "language": "python",
   "name": "python3"
  },
  "language_info": {
   "codemirror_mode": {
    "name": "ipython",
    "version": 3
   },
   "file_extension": ".py",
   "mimetype": "text/x-python",
   "name": "python",
   "nbconvert_exporter": "python",
   "pygments_lexer": "ipython3",
   "version": "3.12.5"
  }
 },
 "nbformat": 4,
 "nbformat_minor": 5
}
