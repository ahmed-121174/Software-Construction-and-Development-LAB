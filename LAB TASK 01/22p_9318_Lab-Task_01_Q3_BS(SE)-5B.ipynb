{
 "cells": [
  {
   "cell_type": "code",
   "execution_count": 1,
   "id": "b3e51fd8-5d1b-4f1e-a323-09f929330675",
   "metadata": {},
   "outputs": [],
   "source": [
    "def clean_string(string):\n",
    "    cleaned=\"\"\n",
    "    for char in string:\n",
    "        if char.isalnum():  #isalnum function will check if the character is alphanumeric or not\n",
    "            cleaned=cleaned+char.lower() #lower function wil convert string to lowercase also here we are adding the lower case string to cleaned string\n",
    "    return cleaned"
   ]
  },
  {
   "cell_type": "code",
   "execution_count": 7,
   "id": "a18e734f-ccd8-400a-b8ab-b41c086f70f8",
   "metadata": {},
   "outputs": [
    {
     "name": "stdin",
     "output_type": "stream",
     "text": [
      "Enter a string:  a22a\n"
     ]
    },
    {
     "name": "stdout",
     "output_type": "stream",
     "text": [
      "The string'a22a'is palindrome\n"
     ]
    }
   ],
   "source": [
    "def is_palindrome(string,start,end):\n",
    "    if start>=end: #base condition\n",
    "        return True\n",
    "    if cleaned_string[start]!=cleaned_string[end]: #comparing first and last characters\n",
    "        return False\n",
    "        \n",
    "    return is_palindrome(string,start+1,end-1) #recursive function: checking substring excluding the first and last characters\n",
    "    \n",
    "  #  return is_palindrome(0,len(cleaned_string)-1) #calling recursive function with the initial indices\n",
    "\n",
    "enter_string=str(input(\"Enter a string: \"))\n",
    "cleaned_string=clean_string(enter_string) #cleaning the input string\n",
    "\n",
    "if is_palindrome(cleaned_string,0,len(cleaned_string)-1): \n",
    "    \n",
    "    #\"cleaned_string\": The cleaned version of the input string.\n",
    "    #\"0\": Starting index of the string.\n",
    "    #\"len(cleaned_string)-1\": Ending index of the string.\n",
    "    \n",
    "    print(f\"The string'{enter_string}'is palindrome\")\n",
    "else:\n",
    "    print(f\"The string'{enter_string}'is not palindrome\")"
   ]
  },
  {
   "cell_type": "code",
   "execution_count": null,
   "id": "5c87853e-8b9f-4823-b83e-79670574d8b4",
   "metadata": {},
   "outputs": [],
   "source": []
  }
 ],
 "metadata": {
  "kernelspec": {
   "display_name": "Python 3 (ipykernel)",
   "language": "python",
   "name": "python3"
  },
  "language_info": {
   "codemirror_mode": {
    "name": "ipython",
    "version": 3
   },
   "file_extension": ".py",
   "mimetype": "text/x-python",
   "name": "python",
   "nbconvert_exporter": "python",
   "pygments_lexer": "ipython3",
   "version": "3.12.5"
  }
 },
 "nbformat": 4,
 "nbformat_minor": 5
}
