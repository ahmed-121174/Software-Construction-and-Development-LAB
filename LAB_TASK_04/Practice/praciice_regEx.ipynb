{
 "cells": [
  {
   "cell_type": "code",
   "execution_count": 4,
   "id": "b95f6536-bdd9-4062-813a-0b766083ca7d",
   "metadata": {},
   "outputs": [],
   "source": [
    "import re"
   ]
  },
  {
   "cell_type": "markdown",
   "id": "6255ea74-1666-4d40-a894-fd6f2409e0b8",
   "metadata": {},
   "source": [
    "# Wildcard (.)\n",
    "In regex, the dot (.) is a wildcard character that matches any single character except for newline\n",
    "characters. This is useful for creating patterns where you need to match any character in a specific\n",
    "position.\n",
    "\n",
    "# Syntax:\n",
    "• beg.n: Matches any string that starts with 'beg', followed by any single character, and ends\n",
    "with 'n'. For example, it can match 'began', 'begin', or 'begxn'."
   ]
  },
  {
   "cell_type": "code",
   "execution_count": 5,
   "id": "5f3f5879-8ce1-454a-a23a-094e167184e9",
   "metadata": {},
   "outputs": [
    {
     "name": "stdout",
     "output_type": "stream",
     "text": [
      "Matches for 'beg.n': ['began', 'begin', 'begwn', 'beg1n']\n"
     ]
    }
   ],
   "source": [
    "#Match 'beg' followed by any single character and ending with 'n'\n",
    "pattern = r'beg.n'\n",
    "test_string = \"began begin begwn begn beg1n begiin begiinn\"\n",
    "matches = re.findall(pattern, test_string)\n",
    "print(\"Matches for 'beg.n':\", matches)"
   ]
  },
  {
   "cell_type": "markdown",
   "id": "29bab0f4-45dd-4324-b3cc-331d133d25b8",
   "metadata": {},
   "source": [
    "# Caret (ˆ)\n",
    "The caret (ˆ) anchor is used to indicate the start of a line or string.\n",
    "Syntax: - ˆThe: Matches any line or string that starts with 'The'."
   ]
  },
  {
   "cell_type": "code",
   "execution_count": 12,
   "id": "a16e2b20-9287-4f2b-a4c3-4cfdae6013dc",
   "metadata": {},
   "outputs": [
    {
     "name": "stdout",
     "output_type": "stream",
     "text": [
      "Matches for '^The': ['The', 'the', 'The']\n"
     ]
    }
   ],
   "source": [
    "#Match lines that start with 'The'\n",
    "pattern = r'[Tt]he'\n",
    "test_string = \"The quick brown fox\\nJumps over the lazy dog\\nThe end\"\n",
    "matches = re.findall(pattern, test_string, re.MULTILINE)\n",
    "print(\"Matches for '^The':\", matches)"
   ]
  },
  {
   "cell_type": "markdown",
   "id": "8e1efeeb-7e6f-40d4-a7e6-12645940d912",
   "metadata": {},
   "source": [
    "# The word boundary ()\n",
    "The word boundary () anchor is used to match positions where a word character is not followed or preceded by another word character. This ensures the pattern matches whole words only.\n",
    "\n",
    "Syntax: Matches the word ‘the’ as a whole word, not as part of another word like ‘other’ or ‘their’."
   ]
  },
  {
   "cell_type": "code",
   "execution_count": 16,
   "id": "0d2d36cc-0daf-46cb-b954-c65e5d5d4ba5",
   "metadata": {},
   "outputs": [
    {
     "name": "stdout",
     "output_type": "stream",
     "text": [
      "Matches for '\\bthe\\b': ['The', 'the']\n"
     ]
    }
   ],
   "source": [
    "#Match the whole word 'the'\n",
    "pattern = r'\\b[Tt]he\\b'\n",
    "test_string = \"The their quick brown fox jumps over the there lazy dog.\"\n",
    "matches = re.findall(pattern, test_string)\n",
    "print(\"Matches for '\\\\bthe\\\\b':\", matches)"
   ]
  },
  {
   "cell_type": "code",
   "execution_count": 47,
   "id": "8993a037-42e5-44d7-b68b-3a9503cf2bc9",
   "metadata": {},
   "outputs": [
    {
     "name": "stdin",
     "output_type": "stream",
     "text": [
      "Enter the email address:  ahmed123.@gmail.com\n"
     ]
    },
    {
     "name": "stdout",
     "output_type": "stream",
     "text": [
      "invalid\n"
     ]
    }
   ],
   "source": [
    "#pattern=r'[a-z]+[0-9]+[_]+(@gmail\\.com|@yahoo\\.com|@hotmail\\.com|@outlook\\.com)'\n",
    "pattern=r'[a-z0-9_]+[\\b^gmail\\b][^\\w][@](gmail|yahoo|hotmail|outlook)[\\.com]' #correct\n",
    "#pattern=r'[a-z][0-9][_]+[^gmail]+[@](gmail|yahoo|hotmail|outlook)[\\.com]'\n",
    "test_string=input(\"Enter the email address: \")\n",
    "if re.findall(pattern,test_string):\n",
    "    print(\"valid\")\n",
    "else:\n",
    "    print(\"invalid\")"
   ]
  },
  {
   "cell_type": "code",
   "execution_count": null,
   "id": "6e9d1273-ed7b-4016-9d6e-a682fba68a9f",
   "metadata": {},
   "outputs": [],
   "source": []
  }
 ],
 "metadata": {
  "kernelspec": {
   "display_name": "Python 3 (ipykernel)",
   "language": "python",
   "name": "python3"
  },
  "language_info": {
   "codemirror_mode": {
    "name": "ipython",
    "version": 3
   },
   "file_extension": ".py",
   "mimetype": "text/x-python",
   "name": "python",
   "nbconvert_exporter": "python",
   "pygments_lexer": "ipython3",
   "version": "3.12.5"
  }
 },
 "nbformat": 4,
 "nbformat_minor": 5
}
