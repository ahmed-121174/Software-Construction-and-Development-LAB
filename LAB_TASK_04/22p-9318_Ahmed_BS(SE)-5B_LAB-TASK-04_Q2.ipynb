{
 "cells": [
  {
   "cell_type": "code",
   "execution_count": 20,
   "id": "a1be8104-0bb8-420c-957a-e4657851a6a2",
   "metadata": {},
   "outputs": [
    {
     "name": "stdin",
     "output_type": "stream",
     "text": [
      "Enter password to check its strength:  !1212Xa\n"
     ]
    }
   ],
   "source": [
    "import re\n",
    "pattern=r'^(?=.*[A-Z])(?=.*[a-z])(?=.*[0-9])(?=.*[!@#$%^&*()_+{}\":;\\'<>?,.])[A-Za-z0-9!@#$%^&*()_+{}\":;\\'<>?,.]{8,}$'\n",
    "password=input(\"Enter password to check its strength: \")"
   ]
  },
  {
   "cell_type": "code",
   "execution_count": 21,
   "id": "dd7fbc5a-809b-4fcd-bd2c-f21d80a3cdb4",
   "metadata": {},
   "outputs": [],
   "source": [
    "if re.findall(pattern,password):\n",
    "    result=\"valid\"\n",
    "else:\n",
    "    result=\"invalid\""
   ]
  },
  {
   "cell_type": "code",
   "execution_count": 22,
   "id": "d7bec076-21be-4020-a3fa-9667e21327e6",
   "metadata": {},
   "outputs": [
    {
     "name": "stdout",
     "output_type": "stream",
     "text": [
      "Password strength: invalid\n"
     ]
    }
   ],
   "source": [
    "print(f\"Password strength: {result}\")"
   ]
  },
  {
   "cell_type": "code",
   "execution_count": null,
   "id": "80e9ff34-f607-4bb4-aa16-5ffc697ee037",
   "metadata": {},
   "outputs": [],
   "source": []
  }
 ],
 "metadata": {
  "kernelspec": {
   "display_name": "Python 3 (ipykernel)",
   "language": "python",
   "name": "python3"
  },
  "language_info": {
   "codemirror_mode": {
    "name": "ipython",
    "version": 3
   },
   "file_extension": ".py",
   "mimetype": "text/x-python",
   "name": "python",
   "nbconvert_exporter": "python",
   "pygments_lexer": "ipython3",
   "version": "3.12.5"
  }
 },
 "nbformat": 4,
 "nbformat_minor": 5
}
