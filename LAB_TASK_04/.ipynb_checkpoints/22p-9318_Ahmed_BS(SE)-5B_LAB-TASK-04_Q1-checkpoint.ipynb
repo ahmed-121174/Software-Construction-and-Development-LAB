{
 "cells": [
  {
   "cell_type": "code",
   "execution_count": 9,
   "id": "075ad0df-9920-4cf6-b14c-ed3c29a13d5f",
   "metadata": {},
   "outputs": [],
   "source": [
    "import re\n",
    "date_pattern=r\"^(0[1-9]|[12][0-9]|3[01])/(0[1-9]|1[0-2])/(1[0-9]{3}|2[0-9]{3})$\"\n",
    "#day part accepts values from 01 to 31 the pattern 0[1-9]|[12][0-9]|3[01] ensures it\n",
    "#month part accepts values from 01 to 12 the pattern 0[1-9]|1[0-2] ensures it\n",
    "#year part accepts any 4 digit number starting from 1000 to 9999 the pattern 1[0-9]{3}|2[0-9]{3} ensures it"
   ]
  },
  {
   "cell_type": "code",
   "execution_count": 10,
   "id": "6289af7e-cde7-495d-8992-137e268f960b",
   "metadata": {},
   "outputs": [
    {
     "name": "stdin",
     "output_type": "stream",
     "text": [
      "Enter date in the format DD/MM/YYYY:  29/02/2024\n"
     ]
    }
   ],
   "source": [
    "date_input=input(\"Enter date in the format DD/MM/YYYY: \")"
   ]
  },
  {
   "cell_type": "code",
   "execution_count": 13,
   "id": "dc618555-fbca-4539-bc09-177d12508777",
   "metadata": {},
   "outputs": [],
   "source": [
    "check=re.findall(date_pattern, date_input)"
   ]
  },
  {
   "cell_type": "code",
   "execution_count": 14,
   "id": "0d00fd77-2a15-45ad-ad94-7e07d043ca40",
   "metadata": {},
   "outputs": [
    {
     "name": "stdout",
     "output_type": "stream",
     "text": [
      "valid match, moving to validate day month and year\n"
     ]
    }
   ],
   "source": [
    "if check!=[]:\n",
    "    print(\"valid match, moving to validate day month and year\")\n",
    "    day=int(check[0][0]) #converting days from string into an integer\n",
    "    month=int(check[0][1]) #converting months from string into an integer\n",
    "    year=int(check[0][2]) #converting years from string into an integer\n",
    "else:\n",
    "    print(\"invalid date: The format or values are incorrect\")"
   ]
  },
  {
   "cell_type": "code",
   "execution_count": 15,
   "id": "251a176f-4978-477f-bf2f-4ffd610667fa",
   "metadata": {},
   "outputs": [
    {
     "name": "stdout",
     "output_type": "stream",
     "text": [
      "valid date: February in a leap year\n"
     ]
    }
   ],
   "source": [
    "if check!=[]:\n",
    "    if month==2: #special case for February\n",
    "        if(year%4==0 and year%100!=0) or (year%400==0):\n",
    "            #leap year check for February(can have 29 days in a leap year)\n",
    "            if day>29:\n",
    "                print(\"invalid date: February can't have more than 29 days in a leap year\")\n",
    "            else:\n",
    "                print(\"valid date: February in a leap year\")\n",
    "        else:\n",
    "            #not a leap year check for February(can only have 28 days)\n",
    "            if day>28:\n",
    "                print(\"invalid date: February can't have more than 28 days in a non leap year\")\n",
    "            else:\n",
    "                print(\"valid date: February in a non leap year\")\n",
    "    elif month in [4, 6, 9, 11]: #months with 30 days(April, June, September, November)\n",
    "        if day>30:\n",
    "            print(f\"invalid date: Month {month} can't have more than 30 days.\")\n",
    "        else:\n",
    "            print(\"valid date for a month with 30 days\")\n",
    "    else: #For all other months with 31 days\n",
    "\n",
    "        print(\"valid date for a month with 31 days\")"
   ]
  },
  {
   "cell_type": "code",
   "execution_count": 16,
   "id": "235bc2fb-d36d-455e-9dab-6e4de81ef035",
   "metadata": {},
   "outputs": [
    {
     "name": "stdout",
     "output_type": "stream",
     "text": [
      "Date entered: 29/02/2024\n",
      "Day: 29, Month: 2, Year: 2024\n"
     ]
    }
   ],
   "source": [
    "if check!=[]:\n",
    "    print(f\"Date entered: {date_input}\")\n",
    "    print(f\"Day: {day}, Month: {month}, Year: {year}\")"
   ]
  },
  {
   "cell_type": "code",
   "execution_count": null,
   "id": "eb407077-96e2-4e8e-9e23-928b37b22dbd",
   "metadata": {},
   "outputs": [],
   "source": []
  }
 ],
 "metadata": {
  "kernelspec": {
   "display_name": "Python 3 (ipykernel)",
   "language": "python",
   "name": "python3"
  },
  "language_info": {
   "codemirror_mode": {
    "name": "ipython",
    "version": 3
   },
   "file_extension": ".py",
   "mimetype": "text/x-python",
   "name": "python",
   "nbconvert_exporter": "python",
   "pygments_lexer": "ipython3",
   "version": "3.12.5"
  }
 },
 "nbformat": 4,
 "nbformat_minor": 5
}
