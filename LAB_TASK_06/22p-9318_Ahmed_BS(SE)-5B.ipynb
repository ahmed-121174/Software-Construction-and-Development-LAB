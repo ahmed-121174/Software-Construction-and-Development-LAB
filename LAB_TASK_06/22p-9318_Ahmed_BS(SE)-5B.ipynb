{
 "cells": [
  {
   "cell_type": "code",
   "execution_count": 52,
   "id": "5d704391-05d5-494d-b73e-4b106010a8b4",
   "metadata": {},
   "outputs": [
    {
     "name": "stdout",
     "output_type": "stream",
     "text": [
      "Scraping completed. Files have been saved.\n"
     ]
    }
   ],
   "source": [
    "import requests\n",
    "from bs4 import BeautifulSoup\n",
    "import os\n",
    "\n",
    "# University and faculty page URLs\n",
    "university_name = \"University of Management and Technology (UMT)\"\n",
    "faculty_url = \"https://www.umt.edu.pk/faculty.aspx\"\n",
    "\n",
    "# Save University Info to a text file\n",
    "with open('university_info.txt', 'w') as f:\n",
    "    f.write(f\"University Name: {university_name}\\n\")\n",
    "    f.write(f\"Faculty Webpage: {faculty_url}\\n\")\n",
    "\n",
    "# Fetching faculty page\n",
    "response = requests.get(faculty_url)\n",
    "soup = BeautifulSoup(response.text, 'html.parser')\n",
    "\n",
    "# List to store faculty data\n",
    "faculty_info = []\n",
    "\n",
    "# Parse faculty information\n",
    "faculty_rows = soup.find_all('tr')\n",
    "\n",
    "for row in faculty_rows:\n",
    "    # Extracting the name, designation, email, etc.\n",
    "    name = row.find('td').get_text(strip=True) if row.find('td') else 'N/A'\n",
    "    designation = row.find('td', class_='job-description').get_text(strip=True) if row.find('td', class_='job-description') else 'N/A'\n",
    "    email = row.find('a', class_='person-email')['href'].replace('mailto:', '') if row.find('a', class_='person-email') else 'N/A'\n",
    "    contact = row.find('td', class_='person-contact').get_text(strip=True) if row.find('td', class_='person-contact') else 'N/A'\n",
    "    \n",
    "    # Image URL\n",
    "    img_url = row.find('img')['src'] if row.find('img') else None\n",
    "\n",
    "    # Append to list\n",
    "    faculty_info.append({\n",
    "        'Name': name,\n",
    "        'Designation': designation,\n",
    "        'Email': email,\n",
    "        'Contact': contact,\n",
    "        'Image URL': img_url\n",
    "    })\n",
    "\n",
    "# Save the extracted data into a CSV file\n",
    "with open('faculty_data.csv', 'w') as file:\n",
    "    # Write the headers\n",
    "    file.write(\"Name,Designation,Email,Contact\\n\")\n",
    "    \n",
    "    # Write each faculty's data (excluding the image URL)\n",
    "    for faculty in faculty_info:\n",
    "        file.write(f\"{faculty['Name']},{faculty['Designation']},{faculty['Email']},{faculty['Contact']}\\n\")\n",
    "\n",
    "# Creating folder for saving images\n",
    "if not os.path.exists('faculty_images'):\n",
    "    os.makedirs('faculty_images')\n",
    "\n",
    "# Downloading Faculty Images and save them in the 'faculty_images' folder\n",
    "for idx, faculty in enumerate(faculty_info):\n",
    "    if faculty['Image URL']:\n",
    "        img_data = requests.get(faculty['Image URL']).content\n",
    "        with open(f'faculty_images/faculty_image_{idx + 1}.jpg', 'wb') as img_file:\n",
    "            img_file.write(img_data)\n",
    "\n",
    "print(\"Scraping completed. Files have been saved.\")"
   ]
  },
  {
   "cell_type": "code",
   "execution_count": null,
   "id": "8a828517-9bb0-4516-b97e-878e75cdcf2c",
   "metadata": {},
   "outputs": [],
   "source": []
  }
 ],
 "metadata": {
  "kernelspec": {
   "display_name": "Python 3 (ipykernel)",
   "language": "python",
   "name": "python3"
  },
  "language_info": {
   "codemirror_mode": {
    "name": "ipython",
    "version": 3
   },
   "file_extension": ".py",
   "mimetype": "text/x-python",
   "name": "python",
   "nbconvert_exporter": "python",
   "pygments_lexer": "ipython3",
   "version": "3.12.5"
  }
 },
 "nbformat": 4,
 "nbformat_minor": 5
}
