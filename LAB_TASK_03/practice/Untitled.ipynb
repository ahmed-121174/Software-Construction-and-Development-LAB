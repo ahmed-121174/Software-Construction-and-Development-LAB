{
 "cells": [
  {
   "cell_type": "code",
   "execution_count": 1,
   "id": "049f1d26-73d3-4352-a12e-ca41ff1bc2c5",
   "metadata": {},
   "outputs": [],
   "source": [
    "str1=\"software\""
   ]
  },
  {
   "cell_type": "code",
   "execution_count": 2,
   "id": "5d4b348d-5261-4576-bb4a-884ad9de0947",
   "metadata": {},
   "outputs": [],
   "source": [
    "str2=\"software\""
   ]
  },
  {
   "cell_type": "code",
   "execution_count": 15,
   "id": "a992edb1-a263-4e8a-9912-2a325ce3dc2a",
   "metadata": {},
   "outputs": [
    {
     "data": {
      "text/plain": [
       "True"
      ]
     },
     "execution_count": 15,
     "metadata": {},
     "output_type": "execute_result"
    }
   ],
   "source": [
    "str1==str2"
   ]
  },
  {
   "cell_type": "code",
   "execution_count": 16,
   "id": "c719d880-5b83-408f-a776-414413f8b385",
   "metadata": {},
   "outputs": [
    {
     "data": {
      "text/plain": [
       "'software'"
      ]
     },
     "execution_count": 16,
     "metadata": {},
     "output_type": "execute_result"
    }
   ],
   "source": [
    "str1.lower()"
   ]
  },
  {
   "cell_type": "code",
   "execution_count": 17,
   "id": "ed216131-0b17-4f70-90c3-575152b37786",
   "metadata": {},
   "outputs": [],
   "source": [
    "str3=\"My name is Ali\""
   ]
  },
  {
   "cell_type": "code",
   "execution_count": 18,
   "id": "ca501314-37e8-406a-b65c-23522cb153b4",
   "metadata": {},
   "outputs": [
    {
     "data": {
      "text/plain": [
       "'My name is ali'"
      ]
     },
     "execution_count": 18,
     "metadata": {},
     "output_type": "execute_result"
    }
   ],
   "source": [
    "str3.capitalize()"
   ]
  },
  {
   "cell_type": "code",
   "execution_count": 19,
   "id": "2026d7e5-3a1d-4168-9ab1-8bc99ea419fa",
   "metadata": {},
   "outputs": [
    {
     "data": {
      "text/plain": [
       "'My name is Ali'"
      ]
     },
     "execution_count": 19,
     "metadata": {},
     "output_type": "execute_result"
    }
   ],
   "source": [
    "str3"
   ]
  },
  {
   "cell_type": "code",
   "execution_count": 20,
   "id": "06c0131e-04c7-4f29-ab99-342c1fcfe45a",
   "metadata": {},
   "outputs": [
    {
     "data": {
      "text/plain": [
       "'My name is Ali'"
      ]
     },
     "execution_count": 20,
     "metadata": {},
     "output_type": "execute_result"
    }
   ],
   "source": [
    "str3.lstrip()"
   ]
  },
  {
   "cell_type": "code",
   "execution_count": 21,
   "id": "b04c0026-c8e8-4bca-a7fc-caf7381a4082",
   "metadata": {},
   "outputs": [
    {
     "data": {
      "text/plain": [
       "11"
      ]
     },
     "execution_count": 21,
     "metadata": {},
     "output_type": "execute_result"
    }
   ],
   "source": [
    "str3.index(\"Ali\")"
   ]
  },
  {
   "cell_type": "code",
   "execution_count": 22,
   "id": "bb857f07-7a47-4bb5-a617-601a9439f100",
   "metadata": {},
   "outputs": [
    {
     "data": {
      "text/plain": [
       "11"
      ]
     },
     "execution_count": 22,
     "metadata": {},
     "output_type": "execute_result"
    }
   ],
   "source": [
    "str3.find(\"Ali\")"
   ]
  },
  {
   "cell_type": "code",
   "execution_count": null,
   "id": "adf8ec4b-19f5-4058-895a-7301647981d5",
   "metadata": {},
   "outputs": [],
   "source": []
  }
 ],
 "metadata": {
  "kernelspec": {
   "display_name": "Python 3 (ipykernel)",
   "language": "python",
   "name": "python3"
  },
  "language_info": {
   "codemirror_mode": {
    "name": "ipython",
    "version": 3
   },
   "file_extension": ".py",
   "mimetype": "text/x-python",
   "name": "python",
   "nbconvert_exporter": "python",
   "pygments_lexer": "ipython3",
   "version": "3.12.5"
  }
 },
 "nbformat": 4,
 "nbformat_minor": 5
}
