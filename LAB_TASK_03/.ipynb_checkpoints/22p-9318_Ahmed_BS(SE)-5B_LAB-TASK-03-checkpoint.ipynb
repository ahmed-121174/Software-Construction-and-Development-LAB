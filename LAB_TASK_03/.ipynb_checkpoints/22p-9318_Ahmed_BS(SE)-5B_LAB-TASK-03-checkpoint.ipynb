{
 "cells": [
  {
   "cell_type": "raw",
   "id": "cbdfd4bc-fd04-483c-a638-6df29531e090",
   "metadata": {},
   "source": [
    "NAME:     AHMED ALI\n",
    "ROLL NO:  22P-9318\n",
    "SECTION:  BS(SE)-5B\n",
    "\n",
    "# LAB TASK 03"
   ]
  },
  {
   "cell_type": "code",
   "execution_count": null,
   "id": "24d0141f-7e34-46d6-8cbd-1747867908f3",
   "metadata": {},
   "outputs": [],
   "source": [
    "# QUESTION 1"
   ]
  },
  {
   "cell_type": "code",
   "execution_count": 1,
   "id": "eadb1fc4-0a10-492a-aeb4-6983a5dc389d",
   "metadata": {},
   "outputs": [],
   "source": [
    "import re"
   ]
  },
  {
   "cell_type": "code",
   "execution_count": 6,
   "id": "3774ce71-3d86-4b80-8ac4-e757a82e69a7",
   "metadata": {},
   "outputs": [
    {
     "name": "stdin",
     "output_type": "stream",
     "text": [
      "Enter date according to following format: (dd/mm/yyyy):  14.1-2004\n"
     ]
    }
   ],
   "source": [
    "input_from_user=input(\"Enter date according to following format: (dd/mm/yyyy): \")"
   ]
  },
  {
   "cell_type": "code",
   "execution_count": 7,
   "id": "122f5c7c-40a9-49a7-be17-62f3d97512cc",
   "metadata": {},
   "outputs": [],
   "source": [
    "pattern=r\"^[0-9]{1,2}[-/.,][0-9]{1,2}[-/.,][0-9]{4}\""
   ]
  },
  {
   "cell_type": "code",
   "execution_count": 8,
   "id": "2469db9d-f12f-4629-b763-a51441ea4312",
   "metadata": {},
   "outputs": [],
   "source": [
    "check=re.findall(pattern, input_from_user)"
   ]
  },
  {
   "cell_type": "code",
   "execution_count": 9,
   "id": "2e91745e-f35e-4dde-baa8-506b138fa439",
   "metadata": {},
   "outputs": [
    {
     "name": "stdout",
     "output_type": "stream",
     "text": [
      "format is valid\n"
     ]
    }
   ],
   "source": [
    "if check:\n",
    "    print(\"format is valid\")\n",
    "else:\n",
    "    print(\"format is invalid\")"
   ]
  },
  {
   "cell_type": "code",
   "execution_count": null,
   "id": "7ec94255-db69-4eb9-9573-0c4fdbf54c20",
   "metadata": {},
   "outputs": [],
   "source": [
    "# QUESTION 2"
   ]
  },
  {
   "cell_type": "code",
   "execution_count": 1,
   "id": "5420085a-af99-4258-9338-fd6dac9c8b3e",
   "metadata": {},
   "outputs": [],
   "source": [
    "import re"
   ]
  },
  {
   "cell_type": "code",
   "execution_count": 24,
   "id": "eb6bb817-b065-4388-8ea3-86e4f0d95b32",
   "metadata": {},
   "outputs": [
    {
     "name": "stdin",
     "output_type": "stream",
     "text": [
      "Enter a phone number of Pakistan to check whether its valid or not:  +92 3001234567\n"
     ]
    }
   ],
   "source": [
    "input_from_user=input(\"Enter a phone number of Pakistan to check whether its valid or not: \")"
   ]
  },
  {
   "cell_type": "code",
   "execution_count": 25,
   "id": "434344d6-de7c-40b0-9d07-8c902e7d0c84",
   "metadata": {},
   "outputs": [],
   "source": [
    "pattern = r\"^\\+92[- ]?3[0-9]{2}[- ]?[0-9]{7}\""
   ]
  },
  {
   "cell_type": "code",
   "execution_count": 26,
   "id": "11a4839d-3731-4533-ab2c-8c165b65a74c",
   "metadata": {},
   "outputs": [],
   "source": [
    "check=re.findall(pattern, input_from_user)"
   ]
  },
  {
   "cell_type": "code",
   "execution_count": 27,
   "id": "b94b9c07-cb04-42da-96a9-2ee00902c13a",
   "metadata": {},
   "outputs": [
    {
     "name": "stdout",
     "output_type": "stream",
     "text": [
      "format is valid\n"
     ]
    }
   ],
   "source": [
    "if check:\n",
    "    print(\"format is valid\")\n",
    "else:\n",
    "    print(\"format is invalid\")"
   ]
  },
  {
   "cell_type": "code",
   "execution_count": null,
   "id": "3774c89c-5112-4a44-80ae-3f7c5fc08dad",
   "metadata": {},
   "outputs": [],
   "source": []
  }
 ],
 "metadata": {
  "kernelspec": {
   "display_name": "Python 3 (ipykernel)",
   "language": "python",
   "name": "python3"
  },
  "language_info": {
   "codemirror_mode": {
    "name": "ipython",
    "version": 3
   },
   "file_extension": ".py",
   "mimetype": "text/x-python",
   "name": "python",
   "nbconvert_exporter": "python",
   "pygments_lexer": "ipython3",
   "version": "3.12.5"
  }
 },
 "nbformat": 4,
 "nbformat_minor": 5
}
