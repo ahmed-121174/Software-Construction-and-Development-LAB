{
 "cells": [
  {
   "cell_type": "code",
   "execution_count": 1,
   "id": "d3c3a93f-d15e-4dc6-8f3a-d707d0333ec4",
   "metadata": {},
   "outputs": [],
   "source": [
    "str1=\"Fast\""
   ]
  },
  {
   "cell_type": "code",
   "execution_count": 2,
   "id": "13f6eaa4-2a00-4304-a61b-ea5b2d483c8a",
   "metadata": {},
   "outputs": [],
   "source": [
    "str2=\"Fast\""
   ]
  },
  {
   "cell_type": "code",
   "execution_count": 3,
   "id": "4be47d85-ba2d-40b6-ac60-a1e77cdde16a",
   "metadata": {},
   "outputs": [
    {
     "name": "stdout",
     "output_type": "stream",
     "text": [
      "0x207e2ca8d20\n",
      "0x207e2ca8d20\n"
     ]
    }
   ],
   "source": [
    "print(hex(id(str1)))\n",
    "print(hex(id(str2)))"
   ]
  },
  {
   "cell_type": "code",
   "execution_count": 4,
   "id": "a41c454d-6396-4657-a703-f6f1ee3dfbe8",
   "metadata": {},
   "outputs": [
    {
     "name": "stdout",
     "output_type": "stream",
     "text": [
      "True\n"
     ]
    }
   ],
   "source": [
    "print(str1 is str2)"
   ]
  },
  {
   "cell_type": "code",
   "execution_count": 5,
   "id": "6f643ad6-041c-4128-866b-a04ae156d674",
   "metadata": {},
   "outputs": [],
   "source": [
    "list1=[1,2,3,4]"
   ]
  },
  {
   "cell_type": "code",
   "execution_count": 6,
   "id": "a7eb8f36-a3cf-463a-9bf6-4d0e80bc01de",
   "metadata": {},
   "outputs": [],
   "source": [
    "list2=[1,2,3,4]"
   ]
  },
  {
   "cell_type": "code",
   "execution_count": 7,
   "id": "cc828786-9d5e-494d-a840-369e2a428421",
   "metadata": {},
   "outputs": [
    {
     "name": "stdout",
     "output_type": "stream",
     "text": [
      "False\n"
     ]
    }
   ],
   "source": [
    "print(list1 is list2)"
   ]
  },
  {
   "cell_type": "code",
   "execution_count": 8,
   "id": "8550c94e-0e7a-478b-ab77-5078e2efc05d",
   "metadata": {},
   "outputs": [
    {
     "name": "stdout",
     "output_type": "stream",
     "text": [
      "0x207e412e280\n",
      "0x207e41095c0\n"
     ]
    }
   ],
   "source": [
    "print(hex(id(list1)))\n",
    "print(hex(id(list2)))"
   ]
  },
  {
   "cell_type": "code",
   "execution_count": 9,
   "id": "cbe8d460-dc57-4e37-ba55-ba63d2a950d9",
   "metadata": {},
   "outputs": [],
   "source": [
    "def display(name, age, gender):\n",
    "    print(name, age, gender)"
   ]
  },
  {
   "cell_type": "code",
   "execution_count": 10,
   "id": "f38a0835-6a66-4bae-9731-86883b2848f9",
   "metadata": {},
   "outputs": [
    {
     "name": "stdout",
     "output_type": "stream",
     "text": [
      "ali 23 Male\n"
     ]
    }
   ],
   "source": [
    "display(\"ali\", 23, \"Male\")"
   ]
  },
  {
   "cell_type": "code",
   "execution_count": 11,
   "id": "aa6a82fa-193f-470b-b031-677091a9f5db",
   "metadata": {},
   "outputs": [],
   "source": [
    "def show(*args):\n",
    "    for i in range(len(args)):\n",
    "        print(args[i])\n",
    "\n",
    "    args[3].append(21)\n",
    "    print(args)\n",
    "    print(type(args))"
   ]
  },
  {
   "cell_type": "code",
   "execution_count": 12,
   "id": "f7146882-15a0-46b0-8e3a-7c2d3df916a8",
   "metadata": {},
   "outputs": [
    {
     "name": "stdout",
     "output_type": "stream",
     "text": [
      "ali\n",
      "23\n",
      "Male\n",
      "[1, 2, 3, 4]\n",
      "('ali', 23, 'Male', [1, 2, 3, 4, 21])\n",
      "<class 'tuple'>\n"
     ]
    }
   ],
   "source": [
    "show(\"ali\",23, \"Male\", [1,2,3,4])"
   ]
  },
  {
   "cell_type": "code",
   "execution_count": 13,
   "id": "01d86f0c-a5a4-4061-a7e7-9a8014381ab4",
   "metadata": {},
   "outputs": [],
   "source": [
    "def output(**args):\n",
    "    print(type(args))\n",
    "    print(args)"
   ]
  },
  {
   "cell_type": "code",
   "execution_count": 14,
   "id": "76bff77d-9d2e-4b45-ae08-689c64e65afd",
   "metadata": {},
   "outputs": [
    {
     "name": "stdout",
     "output_type": "stream",
     "text": [
      "<class 'dict'>\n",
      "{'name': 'Ahmed', 'education': 'BS'}\n"
     ]
    }
   ],
   "source": [
    "output(name=\"Ahmed\", education=\"BS\")"
   ]
  },
  {
   "cell_type": "code",
   "execution_count": 15,
   "id": "5205d1c6-cc73-4a42-8b8f-78aa6e217723",
   "metadata": {},
   "outputs": [],
   "source": [
    "def area(**args):\n",
    "    print(args[\"name\"])"
   ]
  },
  {
   "cell_type": "code",
   "execution_count": 16,
   "id": "000cd64c-f303-48c4-a0a0-6fb801ee6ffc",
   "metadata": {},
   "outputs": [
    {
     "name": "stdout",
     "output_type": "stream",
     "text": [
      "<class 'dict'>\n",
      "{'height': 1.2, 'base': 2.2}\n"
     ]
    }
   ],
   "source": [
    "output(height=1.2, base=2.2) #why output function is used here"
   ]
  },
  {
   "cell_type": "code",
   "execution_count": 17,
   "id": "45fde558-b737-428b-8abe-079f76eae984",
   "metadata": {},
   "outputs": [],
   "source": [
    "def square(i):\n",
    "    return i**2"
   ]
  },
  {
   "cell_type": "code",
   "execution_count": 18,
   "id": "ca174a92-1007-4354-a098-90c4eeb487ff",
   "metadata": {},
   "outputs": [
    {
     "name": "stdout",
     "output_type": "stream",
     "text": [
      "16\n"
     ]
    }
   ],
   "source": [
    "print(square(4))"
   ]
  },
  {
   "cell_type": "code",
   "execution_count": 19,
   "id": "1f6430f2-6163-4643-9289-85cfcf0ca229",
   "metadata": {},
   "outputs": [],
   "source": [
    "#lambda function\n",
    "square=lambda i : i**2"
   ]
  },
  {
   "cell_type": "code",
   "execution_count": 20,
   "id": "ef91f3c3-42bc-4f8a-9942-07983278c7d6",
   "metadata": {},
   "outputs": [
    {
     "name": "stdout",
     "output_type": "stream",
     "text": [
      "16\n"
     ]
    }
   ],
   "source": [
    "print(square(4))"
   ]
  },
  {
   "cell_type": "code",
   "execution_count": 21,
   "id": "ee7d0ef9-fc9e-4904-ac62-e36ae7c1819e",
   "metadata": {},
   "outputs": [],
   "source": [
    "fun = lambda base, exponent : base **exponent"
   ]
  },
  {
   "cell_type": "code",
   "execution_count": 22,
   "id": "bad3c382-8a6d-4274-a987-e9d9c8aa8e08",
   "metadata": {},
   "outputs": [
    {
     "name": "stdout",
     "output_type": "stream",
     "text": [
      "81\n"
     ]
    }
   ],
   "source": [
    "print(fun(3,4))"
   ]
  },
  {
   "cell_type": "code",
   "execution_count": 23,
   "id": "4f65f771-27a5-425c-abcf-a0a50870f443",
   "metadata": {},
   "outputs": [],
   "source": [
    "class student:\n",
    "    count=0\n",
    "    def __init__ (self,name,age,gender): # __init__ function is used for constructor\n",
    "        self.name=name\n",
    "        self._age=age #_ for protected\n",
    "        self.__gender=gender  #__ for private\n",
    "        student.count+=1\n",
    "\n",
    "def __str__ (self):\n",
    "    return self.name + str(self._age) + self.__gender"
   ]
  },
  {
   "cell_type": "code",
   "execution_count": 24,
   "id": "25a933e6-2b43-4114-863e-c9d79db86da5",
   "metadata": {},
   "outputs": [],
   "source": [
    "s1= student(\"A\", 44 ,\"Male\")\n",
    "s2= student(\"A\", 44 ,\"Male\")"
   ]
  },
  {
   "cell_type": "code",
   "execution_count": 34,
   "id": "dbaeff6b-5402-4b7f-8709-8eaef8bee6a0",
   "metadata": {},
   "outputs": [
    {
     "name": "stdout",
     "output_type": "stream",
     "text": [
      "44\n"
     ]
    }
   ],
   "source": [
    "print(s1._age)"
   ]
  },
  {
   "cell_type": "code",
   "execution_count": 65,
   "id": "3f079efe-110a-4e66-816f-f143a954254a",
   "metadata": {},
   "outputs": [
    {
     "name": "stdout",
     "output_type": "stream",
     "text": [
      "2\n"
     ]
    }
   ],
   "source": [
    "print(s1.count)"
   ]
  },
  {
   "cell_type": "code",
   "execution_count": 70,
   "id": "a3192d77-2f23-44d3-b7eb-537f9cda5ec6",
   "metadata": {},
   "outputs": [
    {
     "name": "stdout",
     "output_type": "stream",
     "text": [
      "<__main__.student object at 0x00000207E3E628D0>\n"
     ]
    }
   ],
   "source": [
    "print(s1)"
   ]
  },
  {
   "cell_type": "code",
   "execution_count": 62,
   "id": "1d6c4a1c-597e-404a-be57-4b66d5cd48a3",
   "metadata": {},
   "outputs": [],
   "source": [
    "sum=lambda val1, val2 : val1+val2"
   ]
  },
  {
   "cell_type": "code",
   "execution_count": 63,
   "id": "45185ce6-6f40-4810-bc7a-2b4c250a3653",
   "metadata": {},
   "outputs": [
    {
     "name": "stdout",
     "output_type": "stream",
     "text": [
      "16\n"
     ]
    }
   ],
   "source": [
    "print(sum(9,7))"
   ]
  },
  {
   "cell_type": "code",
   "execution_count": 93,
   "id": "53c1e761-9294-40fa-9da7-453ab4b5190c",
   "metadata": {},
   "outputs": [],
   "source": [
    "class animal:\n",
    "    def __init__ (self, mamal, reptile):\n",
    "        self.mamal=mamal\n",
    "        self._reptile=reptile\n",
    "\n",
    "    def __str__ (self):\n",
    "        return self.mamal + \" \" + (self._reptile)"
   ]
  },
  {
   "cell_type": "code",
   "execution_count": 96,
   "id": "4605df49-77c6-476f-a6ca-7e1c79d5fb83",
   "metadata": {},
   "outputs": [
    {
     "name": "stdout",
     "output_type": "stream",
     "text": [
      "whale dinasour\n"
     ]
    }
   ],
   "source": [
    "print(animal(\"whale\", \"dinasour\"))"
   ]
  },
  {
   "cell_type": "code",
   "execution_count": 98,
   "id": "4367bfc7-2543-473d-bbe1-3f2f3b1e714b",
   "metadata": {},
   "outputs": [
    {
     "ename": "AttributeError",
     "evalue": "type object 'animal' has no attribute 'mamal'",
     "output_type": "error",
     "traceback": [
      "\u001b[1;31m---------------------------------------------------------------------------\u001b[0m",
      "\u001b[1;31mAttributeError\u001b[0m                            Traceback (most recent call last)",
      "Cell \u001b[1;32mIn[98], line 1\u001b[0m\n\u001b[1;32m----> 1\u001b[0m \u001b[38;5;28mprint\u001b[39m(\u001b[43manimal\u001b[49m\u001b[38;5;241;43m.\u001b[39;49m\u001b[43mmamal\u001b[49m)\n",
      "\u001b[1;31mAttributeError\u001b[0m: type object 'animal' has no attribute 'mamal'"
     ]
    }
   ],
   "source": [
    "print(animal.mamal)"
   ]
  },
  {
   "cell_type": "code",
   "execution_count": null,
   "id": "e4b7111a-4f14-4562-a49b-76fd98dcc194",
   "metadata": {},
   "outputs": [],
   "source": []
  }
 ],
 "metadata": {
  "kernelspec": {
   "display_name": "Python 3 (ipykernel)",
   "language": "python",
   "name": "python3"
  },
  "language_info": {
   "codemirror_mode": {
    "name": "ipython",
    "version": 3
   },
   "file_extension": ".py",
   "mimetype": "text/x-python",
   "name": "python",
   "nbconvert_exporter": "python",
   "pygments_lexer": "ipython3",
   "version": "3.12.5"
  }
 },
 "nbformat": 4,
 "nbformat_minor": 5
}
